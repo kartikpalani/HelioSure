{
 "cells": [
  {
   "cell_type": "code",
   "execution_count": 1,
   "metadata": {
    "collapsed": true
   },
   "outputs": [],
   "source": [
    "import pandas as pd\n",
    "import numpy as np\n",
    "import sklearn as sk\n",
    "import datetime as dt\n",
    "import time\n",
    "import seaborn as sea\n",
    "import matplotlib.pyplot as plt\n",
    "\n",
    "% matplotlib inline"
   ]
  },
  {
   "cell_type": "code",
   "execution_count": 3,
   "metadata": {
    "collapsed": false
   },
   "outputs": [],
   "source": [
    "meta_df = pd.read_csv('./PV_Dataset/meta_data_sites.csv')"
   ]
  },
  {
   "cell_type": "code",
   "execution_count": 5,
   "metadata": {
    "collapsed": false
   },
   "outputs": [
    {
     "data": {
      "text/plain": [
       "{\"errors\":[]                                              {\"errors\":[]\n",
       "outputs:[{\"available_years\":[2000    outputs:[{\"available_years\":[2007\n",
       "2006                                                              2008\n",
       "2007                                                              2009\n",
       "2008                                                              2010\n",
       "2009                                                              2011\n",
       "2010                                                              2012\n",
       "2011                                                              2013\n",
       "2012                                                              2014\n",
       "2013                                                              2015\n",
       "2014                                                             2016]\n",
       "2015                                                     comments:null\n",
       "2016]                                               confidential:false\n",
       "comments:null                                       inverter_mfg:\"SMA\"\n",
       "confidential:false                               inverter_model:\"1800\"\n",
       "inverter_mfg:\"SMA\"                                  module_mfg:\"Sanyo\"\n",
       "inverter_model:null                         module_model:\"HIP 200-BA3\"\n",
       "module_mfg:\"Shell Solar\"                             site_power:1000.0\n",
       "module_model:\"Eclipse 80\"                                module_tech:1\n",
       "site_power:1120.0                                    name_private:\"OTF\n",
       "module_tech:7                                                  Sanyo1\"\n",
       "name_private:\"OTF                       name_public:\"[4] NREL x-Si #1\"\n",
       " Shell Eclipse 80\"                                     site_area:5.896\n",
       "name_public:\"[10] NREL CIS #1\"                      site_azimuth:180.0\n",
       "site_area:12.065                                 site_elevation:1795.3\n",
       "site_azimuth:180.0                               site_latitude:39.7406\n",
       "site_elevation:1792.8                          site_longitude:105.1774\n",
       "site_latitude:39.7404                                   site_tilt:40.0\n",
       "site_longitude:105.1774                                  system_id:4}]\n",
       "site_tilt:40.0                                             warnings:[]\n",
       "system_id:10}]                                                infos:[]\n",
       "warnings:[]                                   inputs:{\"system_id\":\"4\"}\n",
       "infos:[]                                              version:\"3.1.0\"}\n",
       "inputs:{\"system_id\":\"10\"}                                          NaN\n",
       "version:\"3.1.0\"}                                                   NaN\n",
       "Name: 0, dtype: object"
      ]
     },
     "execution_count": 5,
     "metadata": {},
     "output_type": "execute_result"
    }
   ],
   "source": [
    "meta_df.iloc[0]"
   ]
  },
  {
   "cell_type": "code",
   "execution_count": 6,
   "metadata": {
    "collapsed": true
   },
   "outputs": [],
   "source": [
    "cis_power = pd.read_csv('./PV_Dataset/Power/CIS/pvdaq_data_10_2011.csv')"
   ]
  },
  {
   "cell_type": "code",
   "execution_count": 12,
   "metadata": {
    "collapsed": false
   },
   "outputs": [
    {
     "data": {
      "text/html": [
       "<div>\n",
       "<table border=\"1\" class=\"dataframe\">\n",
       "  <thead>\n",
       "    <tr style=\"text-align: right;\">\n",
       "      <th></th>\n",
       "      <th>SiteID</th>\n",
       "      <th>Date-Time</th>\n",
       "      <th>ac_current</th>\n",
       "      <th>ac_power</th>\n",
       "      <th>ac_voltage</th>\n",
       "      <th>ambient_temp</th>\n",
       "      <th>das_battery_voltage</th>\n",
       "      <th>das_temp</th>\n",
       "      <th>dc_pos_current</th>\n",
       "      <th>dc_pos_voltage</th>\n",
       "      <th>dc_power</th>\n",
       "      <th>inverter_temp</th>\n",
       "      <th>module_temp_1</th>\n",
       "      <th>module_temp_2</th>\n",
       "      <th>module_temp_3</th>\n",
       "      <th>poa_irradiance</th>\n",
       "      <th>dt</th>\n",
       "    </tr>\n",
       "  </thead>\n",
       "  <tbody>\n",
       "    <tr>\n",
       "      <th>0</th>\n",
       "      <td>10</td>\n",
       "      <td>2011-01-01 00:00:00</td>\n",
       "      <td>0.1631</td>\n",
       "      <td>-0.1322</td>\n",
       "      <td>122.44</td>\n",
       "      <td>-11.947</td>\n",
       "      <td>14.146</td>\n",
       "      <td>-11.908</td>\n",
       "      <td>0.0143</td>\n",
       "      <td>-1.1094</td>\n",
       "      <td>-0.016371</td>\n",
       "      <td>-13.877</td>\n",
       "      <td>-14.999</td>\n",
       "      <td>-14.924</td>\n",
       "      <td>-14.673</td>\n",
       "      <td>-2.1996</td>\n",
       "      <td>2011-01-01 00:00:00</td>\n",
       "    </tr>\n",
       "    <tr>\n",
       "      <th>1</th>\n",
       "      <td>10</td>\n",
       "      <td>2011-01-01 00:01:00</td>\n",
       "      <td>0.1661</td>\n",
       "      <td>-0.1653</td>\n",
       "      <td>122.42</td>\n",
       "      <td>-11.992</td>\n",
       "      <td>14.143</td>\n",
       "      <td>-11.887</td>\n",
       "      <td>0.0156</td>\n",
       "      <td>0.7528</td>\n",
       "      <td>0.012305</td>\n",
       "      <td>-13.859</td>\n",
       "      <td>-14.979</td>\n",
       "      <td>-14.924</td>\n",
       "      <td>-14.733</td>\n",
       "      <td>-2.1717</td>\n",
       "      <td>2011-01-01 00:01:00</td>\n",
       "    </tr>\n",
       "    <tr>\n",
       "      <th>2</th>\n",
       "      <td>10</td>\n",
       "      <td>2011-01-01 00:02:00</td>\n",
       "      <td>0.1626</td>\n",
       "      <td>-0.1322</td>\n",
       "      <td>122.49</td>\n",
       "      <td>-12.039</td>\n",
       "      <td>14.146</td>\n",
       "      <td>-11.879</td>\n",
       "      <td>0.0137</td>\n",
       "      <td>-1.1094</td>\n",
       "      <td>-0.015729</td>\n",
       "      <td>-13.855</td>\n",
       "      <td>-14.984</td>\n",
       "      <td>-14.931</td>\n",
       "      <td>-14.721</td>\n",
       "      <td>-2.2552</td>\n",
       "      <td>2011-01-01 00:02:00</td>\n",
       "    </tr>\n",
       "    <tr>\n",
       "      <th>3</th>\n",
       "      <td>10</td>\n",
       "      <td>2011-01-01 00:03:00</td>\n",
       "      <td>0.1628</td>\n",
       "      <td>-0.2094</td>\n",
       "      <td>122.49</td>\n",
       "      <td>-11.953</td>\n",
       "      <td>14.145</td>\n",
       "      <td>-11.862</td>\n",
       "      <td>0.0140</td>\n",
       "      <td>-0.9509</td>\n",
       "      <td>-0.014231</td>\n",
       "      <td>-13.834</td>\n",
       "      <td>-14.802</td>\n",
       "      <td>-14.762</td>\n",
       "      <td>-14.563</td>\n",
       "      <td>-2.1439</td>\n",
       "      <td>2011-01-01 00:03:00</td>\n",
       "    </tr>\n",
       "    <tr>\n",
       "      <th>4</th>\n",
       "      <td>10</td>\n",
       "      <td>2011-01-01 00:04:00</td>\n",
       "      <td>0.1637</td>\n",
       "      <td>-0.2094</td>\n",
       "      <td>122.49</td>\n",
       "      <td>-11.876</td>\n",
       "      <td>14.144</td>\n",
       "      <td>-11.862</td>\n",
       "      <td>0.0143</td>\n",
       "      <td>0.6560</td>\n",
       "      <td>0.010058</td>\n",
       "      <td>-13.825</td>\n",
       "      <td>-14.857</td>\n",
       "      <td>-14.798</td>\n",
       "      <td>-14.618</td>\n",
       "      <td>-2.0325</td>\n",
       "      <td>2011-01-01 00:04:00</td>\n",
       "    </tr>\n",
       "  </tbody>\n",
       "</table>\n",
       "</div>"
      ],
      "text/plain": [
       "   SiteID            Date-Time  ac_current  ac_power  ac_voltage  \\\n",
       "0      10  2011-01-01 00:00:00      0.1631   -0.1322      122.44   \n",
       "1      10  2011-01-01 00:01:00      0.1661   -0.1653      122.42   \n",
       "2      10  2011-01-01 00:02:00      0.1626   -0.1322      122.49   \n",
       "3      10  2011-01-01 00:03:00      0.1628   -0.2094      122.49   \n",
       "4      10  2011-01-01 00:04:00      0.1637   -0.2094      122.49   \n",
       "\n",
       "   ambient_temp  das_battery_voltage  das_temp  dc_pos_current  \\\n",
       "0       -11.947               14.146   -11.908          0.0143   \n",
       "1       -11.992               14.143   -11.887          0.0156   \n",
       "2       -12.039               14.146   -11.879          0.0137   \n",
       "3       -11.953               14.145   -11.862          0.0140   \n",
       "4       -11.876               14.144   -11.862          0.0143   \n",
       "\n",
       "   dc_pos_voltage  dc_power  inverter_temp  module_temp_1  module_temp_2  \\\n",
       "0         -1.1094 -0.016371        -13.877        -14.999        -14.924   \n",
       "1          0.7528  0.012305        -13.859        -14.979        -14.924   \n",
       "2         -1.1094 -0.015729        -13.855        -14.984        -14.931   \n",
       "3         -0.9509 -0.014231        -13.834        -14.802        -14.762   \n",
       "4          0.6560  0.010058        -13.825        -14.857        -14.798   \n",
       "\n",
       "   module_temp_3  poa_irradiance                  dt  \n",
       "0        -14.673         -2.1996 2011-01-01 00:00:00  \n",
       "1        -14.733         -2.1717 2011-01-01 00:01:00  \n",
       "2        -14.721         -2.2552 2011-01-01 00:02:00  \n",
       "3        -14.563         -2.1439 2011-01-01 00:03:00  \n",
       "4        -14.618         -2.0325 2011-01-01 00:04:00  "
      ]
     },
     "execution_count": 12,
     "metadata": {},
     "output_type": "execute_result"
    }
   ],
   "source": [
    "dt_time = [dt.datetime.strptime(t,'%Y-%m-%d %H:%M:%S') for t in cis_power['Date-Time']]\n",
    "cis_power['dt'] = pd.Series(dt_time,index=cis_power.index)\n",
    "\n",
    "cis_power.head()"
   ]
  },
  {
   "cell_type": "code",
   "execution_count": 42,
   "metadata": {
    "collapsed": false
   },
   "outputs": [],
   "source": [
    "# data for month of january\n",
    "jan = cis_power[(cis_power['dt']>= dt.datetime(2011,1,1)) & (cis_power['dt']< dt.datetime(2011,2,1))]\n",
    "\n",
    "# per day data\n",
    "jan_per_day = dict()\n",
    "for i in range(1,32):\n",
    "    # consider complete 24 hours data (zero power periods and non zero power periods)\n",
    "    #temp_df = jan[(jan['dt']>= dt.datetime(2011,1,i,0,0,0)) & (jan['dt']< dt.datetime(2011,1,i,23,59,59))]\n",
    "    # consider only non-zero power periods\n",
    "    temp_df = jan[(jan['dt']>= dt.datetime(2011,1,i,7,0,0)) & (jan['dt']< dt.datetime(2011,1,i,17,59,59))]\n",
    "    jan_per_day[i] = temp_df"
   ]
  },
  {
   "cell_type": "code",
   "execution_count": 62,
   "metadata": {
    "collapsed": false
   },
   "outputs": [
    {
     "data": {
      "text/plain": [
       "[<matplotlib.lines.Line2D at 0xab54b2ac>]"
      ]
     },
     "execution_count": 62,
     "metadata": {},
     "output_type": "execute_result"
    },
    {
     "data": {
      "image/png": "[encoded data removed]",
      "text/plain": [
       "<matplotlib.figure.Figure at 0xab54b70c>"
      ]
     },
     "metadata": {},
     "output_type": "display_data"
    }
   ],
   "source": [
    "# plot the ac_power consumption of a day in Jan\n",
    "plt.xticks(rotation=90)\n",
    "day = 7\n",
    "plt.plot(jan_per_day[day]['dt'], jan_per_day[day]['ac_power']/1000.0 + 5)\n",
    "plt.plot(jan_per_day[day]['dt'], jan_per_day[day]['ambient_temp'] )\n",
    "#plt.boxplot(list(jan_per_day[1]['ac_power']))"
   ]
  },
  {
   "cell_type": "code",
   "execution_count": 64,
   "metadata": {
    "collapsed": false
   },
   "outputs": [
    {
     "data": {
      "image/png": "[encoded data removed]",
      "text/plain": [
       "<matplotlib.figure.Figure at 0xade4aeac>"
      ]
     },
     "metadata": {},
     "output_type": "display_data"
    }
   ],
   "source": [
    "# box plot of AC power and corresponding average ac_power for jan month\n",
    "data_for_boxplot = []\n",
    "for i in range(1,32):\n",
    "    data_for_boxplot.append( (list(jan_per_day[i]['ac_power'])) ) \n",
    "fig, ax1 = plt.subplots(figsize=(10,5))\n",
    "bp_dict= ax1.boxplot(data_for_boxplot)\n",
    "\n",
    "#ax2 = ax1.twinx()\n",
    "#ax2.plot([i for i in range(1,32)], [np.mean(jan_per_day[key]['poa_irradiance']) for key  in jan_per_day.keys() ], 'r-')\n",
    "#ax2.set_ylabel('Power(W)', color='r')\n",
    "#for tl in ax2.get_yticklabels():\n",
    "#    tl.set_color('r')"
   ]
  },
  {
   "cell_type": "code",
   "execution_count": 89,
   "metadata": {
    "collapsed": false
   },
   "outputs": [
    {
     "name": "stdout",
     "output_type": "stream",
     "text": [
      "Irradiance Stats: Min:-3.338, Avg:170.683, Max:1304.600\n"
     ]
    },
    {
     "data": {
      "image/png": "[encoded data removed]",
      "text/plain": [
       "<matplotlib.figure.Figure at 0xa2facd0c>"
      ]
     },
     "metadata": {},
     "output_type": "display_data"
    }
   ],
   "source": [
    "# scatter plot between ac_power, dc_power and poa_irradiance\n",
    "day = 1\n",
    "fig, ax1 = plt.subplots(figsize=(10,5))\n",
    "print 'Irradiance Stats: Min:%0.3f, Avg:%0.3f, Max:%0.3f' %(np.min(jan_per_day[day]['poa_irradiance']), \n",
    "                                                            np.mean(jan_per_day[day]['poa_irradiance']), \n",
    "                                                           np.max(jan_per_day[day]['poa_irradiance']) )\n",
    "scatter1 = ax1.scatter(jan_per_day[day]['poa_irradiance'], jan_per_day[day]['ac_power']/1000.0, color='r', label='AC Power')\n",
    "#ax1.set_ylabel('AC Power(kW)', color='r')\n",
    "#for tl in ax1.get_yticklabels():\n",
    "#    tl.set_color('r')\n",
    "\n",
    "#ax2 = ax1.twinx()\n",
    "scatter2 = ax1.scatter(jan_per_day[day]['poa_irradiance'], jan_per_day[day]['dc_power']/1000.0, color='b', label='DC Power')\n",
    "#ax1.set_ylabel('DC Power(W)', color='b')\n",
    "#for tl in ax1.get_yticklabels():\n",
    "#    tl.set_color('b')\n",
    "\n",
    "power_legend = ax1.legend(loc='upper left')\n",
    "\n",
    "# color the points to know their time"
   ]
  },
  {
   "cell_type": "code",
   "execution_count": null,
   "metadata": {
    "collapsed": true
   },
   "outputs": [],
   "source": []
  }
 ],
 "metadata": {
  "kernelspec": {
   "display_name": "Python 2",
   "language": "python",
   "name": "python2"
  },
  "language_info": {
   "codemirror_mode": {
    "name": "ipython",
    "version": 2
   },
   "file_extension": ".py",
   "mimetype": "text/x-python",
   "name": "python",
   "nbconvert_exporter": "python",
   "pygments_lexer": "ipython2",
   "version": "2.7.6"
  }
 },
 "nbformat": 4,
 "nbformat_minor": 0
}
